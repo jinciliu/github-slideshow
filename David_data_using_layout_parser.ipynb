{
  "nbformat": 4,
  "nbformat_minor": 0,
  "metadata": {
    "colab": {
      "name": "David_data using layout parser.ipynb",
      "provenance": [],
      "mount_file_id": "1Mr7aH-JyaJ0Twzg2QTEYWsWoBKXN9Y0v",
      "authorship_tag": "ABX9TyO42ylybez00+ggIULoRqcz",
      "include_colab_link": true
    },
    "kernelspec": {
      "name": "python3",
      "display_name": "Python 3"
    },
    "language_info": {
      "name": "python"
    }
  },
  "cells": [
    {
      "cell_type": "markdown",
      "metadata": {
        "id": "view-in-github",
        "colab_type": "text"
      },
      "source": [
        "<a href=\"https://colab.research.google.com/github/Jinci97/github-slideshow/blob/master/David_data_using_layout_parser.ipynb\" target=\"_parent\"><img src=\"https://colab.research.google.com/assets/colab-badge.svg\" alt=\"Open In Colab\"/></a>"
      ]
    },
    {
      "cell_type": "markdown",
      "metadata": {
        "id": "C5-ZY5DTZTKg"
      },
      "source": [
        "# Preparation"
      ]
    },
    {
      "cell_type": "code",
      "metadata": {
        "id": "gYyX8dgec7AF"
      },
      "source": [
        "!pip install -U layoutparser\n",
        "!pip install numpy \n",
        "!pip install 'git+https://github.com/facebookresearch/detectron2.git@v0.4#egg=detectron2'\n",
        "!pip install layoutparser[ocr]\n",
        "!git clone https://github.com/Layout-Parser/layout-parser.git\n",
        "!sudo apt install tesseract-ocr\n",
        "!pip install spacy\n",
        "!pip install spacy-transformers\n",
        "!python -m spacy download en_core_web_trf\n",
        "!pip install click==7.1.1\n",
        "!pip install pdf2image\n",
        "!apt install poppler-utils\n",
        "!pip install urllib\n",
        "!pip install pandas \n",
        "!pip install os \n",
        "!pip install requests"
      ],
      "execution_count": null,
      "outputs": []
    },
    {
      "cell_type": "code",
      "metadata": {
        "id": "9Pe42oSrdFjJ"
      },
      "source": [
        "import numpy as np\n",
        "import cv2\n",
        "import layoutparser as lp\n",
        "import spacy\n",
        "from pdf2image import convert_from_bytes\n",
        "import urllib.request as urllib2 \n",
        "import pandas as pd\n",
        "import os\n",
        "import requests\n",
        "import urllib.request\n"
      ],
      "execution_count": null,
      "outputs": []
    },
    {
      "cell_type": "code",
      "metadata": {
        "id": "Y7UuhwV_eHYn"
      },
      "source": [
        "def download_file(download_url, filename):\n",
        "    response = urllib.request.urlopen(download_url)    \n",
        "    file = open(filename + \".pdf\", 'wb')\n",
        "    file.write(response.read())\n",
        "    file.close()"
      ],
      "execution_count": null,
      "outputs": []
    },
    {
      "cell_type": "code",
      "metadata": {
        "id": "xspnVvdmk2ED"
      },
      "source": [
        "  model = lp.Detectron2LayoutModel(\n",
        "            config_path ='lp://PubLayNet/mask_rcnn_X_101_32x8d_FPN_3x/config', # In model catalog\n",
        "            label_map   = {0: \"Text\", 1: \"Title\", 2: \"List\", 3:\"Table\", 4:\"Figure\"}, # In model`label_map`\n",
        "            extra_config=[\"MODEL.ROI_HEADS.SCORE_THRESH_TEST\", 0.65] # Optional\n",
        "        )"
      ],
      "execution_count": null,
      "outputs": []
    },
    {
      "cell_type": "markdown",
      "metadata": {
        "id": "BFnFm8qMfPdW"
      },
      "source": [
        "# Change directory and read data \n",
        "\n",
        "\n"
      ]
    },
    {
      "cell_type": "code",
      "metadata": {
        "id": "KT7IqdoiVlvk"
      },
      "source": [
        "!mkdir Txt\n",
        "!mkdir Pdf"
      ],
      "execution_count": null,
      "outputs": []
    },
    {
      "cell_type": "code",
      "metadata": {
        "colab": {
          "base_uri": "https://localhost:8080/"
        },
        "id": "YjaidHilsDwF",
        "outputId": "0d1b043c-bc16-49c8-bcbc-724100979bc6"
      },
      "source": [
        "%cd /content/Pdf"
      ],
      "execution_count": null,
      "outputs": [
        {
          "output_type": "stream",
          "text": [
            "/content/Pdf\n"
          ],
          "name": "stdout"
        }
      ]
    },
    {
      "cell_type": "markdown",
      "metadata": {
        "id": "6MHJOyXXZeoM"
      },
      "source": [
        "Remember to upload 1-99.xlsx into Pdf folder. "
      ]
    },
    {
      "cell_type": "markdown",
      "metadata": {
        "id": "tj0faRWJZsWX"
      },
      "source": [
        "Just remember, that Colab is a temporary environment with an idle timeout of 90 minutes and an absolute timeout of 12 hours. Here we try the first 1-99 urls to see the performance of layout parser and also avoid run out of time. "
      ]
    },
    {
      "cell_type": "code",
      "metadata": {
        "id": "hI37LmsFfjom"
      },
      "source": [
        "data = pd.read_excel('1-99.xlsx')"
      ],
      "execution_count": null,
      "outputs": []
    },
    {
      "cell_type": "code",
      "metadata": {
        "colab": {
          "base_uri": "https://localhost:8080/"
        },
        "id": "oqTZvbOIfnc2",
        "outputId": "01be1bd0-9771-469e-84f7-12ee0fe747be"
      },
      "source": [
        "for i in range(data.shape[0]):  \n",
        "    IND, url = data.iloc[i] \n",
        "    url = url\n",
        "    name = str(IND)\n",
        "    %cd /content/Pdf/\n",
        "    download_file(url, name)\n",
        "\n",
        "    images = convert_from_bytes(open(name +\".pdf\", 'rb').read())\n",
        "  #loop through each page\n",
        "    for image in images:\n",
        "        ocr_agent = lp.ocr.TesseractAgent()\n",
        "        image = np.array(image)\n",
        "        layout = model.detect(image)\n",
        "        text_blocks = lp.Layout([b for b in layout if b.type == 'Text']) \n",
        "#loop through each text box on page.\n",
        "          \n",
        "        for block in text_blocks:\n",
        "                segment_image = (block\n",
        "                                .pad(left=5, right=5, top=5, bottom=5)\n",
        "                                .crop_image(image))\n",
        "                text = ocr_agent.detect(segment_image)\n",
        "                block.set(text=text, inplace=True)\n",
        "            \n",
        "            \n",
        "        for j, txt in enumerate(text_blocks.get_texts()):\n",
        "                    my_file = open(\"/content/Txt/\"+ name +\".txt\",\"a+\")\n",
        "                   # %cd /content/Txt/\n",
        "                    my_file.write(txt)"
      ],
      "execution_count": null,
      "outputs": [
        {
          "output_type": "stream",
          "text": [
            "/content/Pdf\n",
            "/content/Pdf\n",
            "/content/Pdf\n",
            "/content/Pdf\n",
            "/content/Pdf\n",
            "/content/Pdf\n",
            "/content/Pdf\n",
            "/content/Pdf\n",
            "/content/Pdf\n",
            "/content/Pdf\n",
            "/content/Pdf\n",
            "/content/Pdf\n"
          ],
          "name": "stdout"
        }
      ]
    },
    {
      "cell_type": "code",
      "metadata": {
        "id": "YrKznaB6ko47"
      },
      "source": [
        ""
      ],
      "execution_count": null,
      "outputs": []
    }
  ]
}